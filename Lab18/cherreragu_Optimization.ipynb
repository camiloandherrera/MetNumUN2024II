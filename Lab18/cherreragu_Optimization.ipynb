{
  "nbformat": 4,
  "nbformat_minor": 0,
  "metadata": {
    "colab": {
      "provenance": []
    },
    "kernelspec": {
      "name": "python3",
      "display_name": "Python 3"
    },
    "language_info": {
      "name": "python"
    }
  },
  "cells": [
    {
      "cell_type": "markdown",
      "source": [
        "Google Colab link: https://colab.research.google.com/drive/1NFRMLul0nDH85PxHFEl_YlDlWdXMRzYI?usp=sharing\n",
        "\n",
        "Part 1. Solving Simplex examples from [Excel Solver](https://web.mit.edu/15.053/www/Excel_Solver.pdf)\n",
        "\n",
        "\\begin{align}\n",
        "        \\text{Minimize: } c^Tx\n",
        "    \\end{align}\n",
        "\n",
        "Subject to:\n",
        "\\begin{align}\n",
        "        A_{ub}x ≤ b_{ub},\n",
        "    \\end{align}\n",
        "\\begin{align}\n",
        "        A_{eq}x = b_{eq},\n",
        "    \\end{align}\n",
        "\\begin{align}\n",
        "        l ≤ x ≤ u,\n",
        "    \\end{align}\n",
        "\n",
        "where $x$ is a vector of decision variables, $c, b_{ub}, b{eq}, l$ and $u$ are vectors, and $A_{ub}$ and $A_{eq}$ are matrices.\n",
        "\n",
        "\n",
        "\n",
        "---\n",
        "\n",
        "\n",
        "a) Diet problem:\n",
        "\n",
        "Diet optimization based on cost and different nutritional factors. Find a Find a minimum-cost diet that contains:\n",
        "- at least 500 calories\n",
        "- at least 6 grams of chocolat\n",
        "- at least 10 grams of sugar\n",
        "- at least 8 grams of fat.\n",
        "\n",
        "The linear variables are the number of servings of each food, as the objective involves minimizing costs, with:\n",
        "\n",
        "$ x_1 = $ Brownies\n",
        "\n",
        "$ x_2 = $ Ice Cream servings\n",
        "\n",
        "$ x_3 = $ Cola servings\n",
        "\n",
        "$ x_4 = $ Cheescake servings\n",
        "\n",
        "The constraints are:\n",
        "- Calories * $ x_1, x_2, x_3, x_4 ≥ 500 $\n",
        "- Chocolate * $ x_1, x_2, x_3, x_4 ≥ 6 $\n",
        "- Sugar * $ x_1, x_2, x_3, x_4 ≥ 10 $\n",
        "- Fat * $ x_1, x_2, x_3, x_4 ≥ 8 $\n",
        "- Non-negativity; $ x_1, x_2, x_3, x_4 ≥ 0 $\n",
        "\n"
      ],
      "metadata": {
        "id": "oJaE8u-c0IE6"
      }
    },
    {
      "cell_type": "code",
      "source": [
        "import numpy as np\n",
        "from scipy.optimize import linprog\n",
        "\n",
        "# Foods and its cost:\n",
        "# Brownies, Ice Cream, Cola, Cheese Cake\n",
        "cost = [50, 20, 30, 80]\n",
        "# Nutritonal factors\n",
        "'''\n",
        "calories = [400, 200, 150, 500]\n",
        "chocolate = [3, 2, 0, 0]\n",
        "sugar = [2, 2, 4, 4]\n",
        "fat = [2, 4, 1, 5]'''\n",
        "\n",
        "# Nutritional factors contraints\n",
        "'''required = [500, 6, 10, 8]'''\n",
        "\n",
        "# ----\n",
        "\n",
        "# Cost vector (Objective Function Coefficients in cents)\n",
        "c = cost # = [50, 20, 30, 80]\n",
        "\n",
        "# Coefficients of inequality constraints (A_ub * x >= b_ub)\n",
        "A_ub = [\n",
        "    [-400, -200, -150, -500],  # Calories ≥ 500\n",
        "    [-3, -2, 0, 0],  # Chocolate ≥ 6 grams\n",
        "    [-2, -2, -4, -4],  # Sugar ≥ 10 grams\n",
        "    [-2, -4, -1, -5]   # Fat ≥ 8 grams\n",
        "]\n",
        "\n",
        "# Right side of inequality constraints (negative because we converted ≥ into ≤ by multiplying -1)\n",
        "b_ub = [-500, -6, -10, -8]\n",
        "\n",
        "# Bounds for variables (Non-negativity constraint)\n",
        "x_bounds = [(0, None), (0, None), (0, None), (0, None)]\n",
        "\n",
        "# Solve the LP problem using the HiGHS solver\n",
        "solution = linprog(c, A_ub=A_ub, b_ub=b_ub, bounds=x_bounds, method='highs')\n",
        "\n",
        "# Solve the LP problem using the Simplex solver\n",
        "# solution = linprog(c, A_ub=A_ub, b_ub=b_ub, bounds=x_bounds, method='simplex')\n",
        "\n",
        "# Print the results\n",
        "print(\"Optimal cost in cents: \", solution.fun)\n",
        "print(\"Optimal Solution (Food Quantities):\", solution.x)\n",
        "print(\"Solver Status:\", solution.message)"
      ],
      "metadata": {
        "colab": {
          "base_uri": "https://localhost:8080/"
        },
        "id": "82Gd88NivAXQ",
        "outputId": "88413566-ffeb-481d-b99e-f4888361b3b2"
      },
      "execution_count": null,
      "outputs": [
        {
          "output_type": "stream",
          "name": "stdout",
          "text": [
            "Optimal cost in cents:  90.0\n",
            "Optimal Solution (Food Quantities): [0. 3. 1. 0.]\n",
            "Solver Status: Optimization terminated successfully. (HiGHS Status 7: Optimal)\n"
          ]
        }
      ]
    },
    {
      "cell_type": "markdown",
      "source": [
        "b) Food startup problem:\n",
        "Allocate production capabilities to devise a feasible daily production plan that maximizes profit.\n",
        "The linear variables are the number of orders of each food, as the objective involves maximizing profit, with the three kinds of food to order at this stage being:\n",
        "\n",
        "$ x_1 = $ Hummus\n",
        "\n",
        "$ x_2 = $ Moussaka\n",
        "\n",
        "$ x_3 = $ Tabbouleh\n",
        "\n",
        "The constraints are:\n",
        "- Cooking hours * $ x_1, x_2, x_3 ≤ 4 $\n",
        "- Packaging hours * $ x_1, x_2, x_3 ≤ 2 $\n",
        "- Delivery hours * $ x_1, x_2, x_3 ≤ 2 $\n",
        "- Non-negativity; $ x_1, x_2, x_3 ≤ 0 $\n",
        "- Demmand (Hummus); $ ≤ 20 $\n",
        "- Demmand (Moussaka); $ ≤ 10 $\n",
        "- Demmand (Tabbouleh); $ ≤ 30 $"
      ],
      "metadata": {
        "id": "yTz8BD6ZEaOw"
      }
    },
    {
      "cell_type": "code",
      "source": [
        "import numpy as np\n",
        "from scipy.optimize import linprog\n",
        "\n",
        "# Foods and its profit:\n",
        "# Hummus, Moussaka, Tabbouleh\n",
        "#profit = [6, 10, 4.50]\n",
        "\n",
        "# Time factors in hours\n",
        "cooking_h = [0.1, 0.2, 0.067]\n",
        "packaging_h = [0.05, 0.067, 0.040]\n",
        "delivery_h = [0.033, 0.067, 0.033]\n",
        "\n",
        "# Time and demmand constraints\n",
        "# Cooking, Packagin, Deliveriy, Demmand (H, M, T)\n",
        "max_time = [4, 2, 2]\n",
        "'''max_demand = [20, 10, 30]'''\n",
        "# ----\n",
        "\n",
        "# Objective Function Coefficients in dollars (cost vector)\n",
        "c = [-6, -10, -4.5]\n",
        "\n",
        "# Coefficients of inequality constraints (A_ub * x <= b_ub)\n",
        "A_ub = [cooking_h,    # Cooking hours ≤ 4\n",
        "        packaging_h,  # Packaging hours ≤ 2\n",
        "        delivery_h   # Delivery hours ≤ 2\n",
        "        ]\n",
        "\n",
        "# Right side of inequality constraints\n",
        "b_ub = max_time\n",
        "\n",
        "# Bounds for variables (Non-negativity constraint)\n",
        "x_bounds = [(0, 20), (0, 10), (0, 30)]    # x_k ≤ max_demand[i]\n",
        "\n",
        "# Solve the LP problem using the HiGHS solver\n",
        "solution = linprog(c, A_ub=A_ub, b_ub=b_ub, bounds=x_bounds, method='highs')\n",
        "\n",
        "# Solve the LP problem using the Simplex solver\n",
        "# solution = linprog(c, A_ub=A_ub, b_ub=b_ub, bounds=x_bounds, method='simplex')\n",
        "\n",
        "# Print the results\n",
        "print(\"Optimal cost in dollars: \", -solution.fun) # Convert back to positive\n",
        "x_sol_int = []  # Casts food quantities into int\n",
        "for i in solution.x:\n",
        "  x_sol_int.append(int(i))\n",
        "print(\"Optimal Solution (Food Quantities):\", x_sol_int)\n",
        "print(\"Solver Status:\", solution.message)"
      ],
      "metadata": {
        "id": "NiNc37mzI05w",
        "colab": {
          "base_uri": "https://localhost:8080/"
        },
        "outputId": "40095bff-18ac-45e0-8298-1ad388074c4f"
      },
      "execution_count": 80,
      "outputs": [
        {
          "output_type": "stream",
          "name": "stdout",
          "text": [
            "Optimal cost in dollars:  242.58181818181816\n",
            "Optimal Solution (Food Quantities): [8, 5, 30]\n",
            "Solver Status: Optimization terminated successfully. (HiGHS Status 7: Optimal)\n"
          ]
        }
      ]
    },
    {
      "cell_type": "markdown",
      "source": [
        "Part 2. Solving Simplex examples from [Linear Programming with Excel Solver](https://faculty.sfasu.edu/fisherwarre/lp_solver.html)\n",
        "\n",
        "\\begin{align}\n",
        "        \\text{Minimize: } c^Tx\n",
        "    \\end{align}\n",
        "\n",
        "Subject to:\n",
        "\\begin{align}\n",
        "        A_{ub}x ≤ b_{ub},\n",
        "    \\end{align}\n",
        "\\begin{align}\n",
        "        A_{eq}x = b_{eq},\n",
        "    \\end{align}\n",
        "\\begin{align}\n",
        "        l ≤ x ≤ u,\n",
        "    \\end{align}\n",
        "\n",
        "where $x$ is a vector of decision variables, $c, b_{ub}, b{eq}, l$ and $u$ are vectors, and $A_{ub}$ and $A_{eq}$ are matrices.\n",
        "\n",
        "\n",
        "\n",
        "---\n",
        "\n",
        "\n",
        "a) Example 1:\n",
        "\n",
        "\\begin{align}\n",
        "        \\text{Max z} = 5x_1 + 8x_2\n",
        "    \\end{align}\n",
        "Subject to\n",
        "\\begin{align}\n",
        "        2x_1 + 4x_2 ≤ 40\n",
        "    \\end{align}\n",
        "\\begin{align}\n",
        "        6x_1 + 3x_2 ≤ 42\n",
        "    \\end{align}\n",
        "\\begin{align}\n",
        "        x_1 ≥ 3\n",
        "    \\end{align}\n",
        "With\n",
        "\\begin{align}\n",
        "        x_1, x_2 ≥ 0\n",
        "    \\end{align}    \n"
      ],
      "metadata": {
        "id": "j34YLqZkX0Vr"
      }
    },
    {
      "cell_type": "code",
      "source": [
        "import numpy as np\n",
        "from scipy.optimize import linprog\n",
        "\n",
        "# Objective Function Coefficients\n",
        "c = [-5, -8]\n",
        "\n",
        "# Coefficients of inequality constraints (A_ub * x <= b_ub)\n",
        "A_ub = [[2, 4],\n",
        "        [6, 3],\n",
        "        [-1, 0]]\n",
        "\n",
        "# Right side of inequality constraints\n",
        "b_ub = [40, 42, -3]\n",
        "\n",
        "# Bounds for variables (Non-negativity constraint)\n",
        "x_bounds = [(0, None), (0, None)]\n",
        "\n",
        "# Solve the LP problem using the HiGHS solver\n",
        "solution = linprog(c, A_ub=A_ub, b_ub=b_ub, bounds=x_bounds, method='highs')\n",
        "\n",
        "# Solve the LP problem using the Simplex solver\n",
        "# solution = linprog(c, A_ub=A_ub, b_ub=b_ub, bounds=x_bounds, method='simplex')\n",
        "\n",
        "# Print the results\n",
        "print(\"Max Z: \", -solution.fun)\n",
        "print(\"Optimal Solution:\", solution.x)\n",
        "print(\"Solver Status:\", solution.message)"
      ],
      "metadata": {
        "colab": {
          "base_uri": "https://localhost:8080/"
        },
        "id": "bpC7hlezk_5-",
        "outputId": "e0f8b3ec-c818-4300-fb2a-2188fbe4d8bf"
      },
      "execution_count": 139,
      "outputs": [
        {
          "output_type": "stream",
          "name": "stdout",
          "text": [
            "Max Z:  79.0\n",
            "Optimal Solution: [3. 8.]\n",
            "Solver Status: Optimization terminated successfully. (HiGHS Status 7: Optimal)\n"
          ]
        }
      ]
    }
  ]
}